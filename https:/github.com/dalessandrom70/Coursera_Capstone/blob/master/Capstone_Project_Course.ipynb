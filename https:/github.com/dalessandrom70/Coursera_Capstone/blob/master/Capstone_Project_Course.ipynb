https://github.com/dalessandrom70/Coursera_Capstone/blob/master/Capstone_Project_Course.ipynb
